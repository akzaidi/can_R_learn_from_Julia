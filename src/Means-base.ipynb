{
 "cells": [
  {
   "cell_type": "code",
   "execution_count": 9,
   "metadata": {
    "collapsed": false
   },
   "outputs": [
    {
     "data": {
      "text/plain": [
       "colMeans (generic function with 3 methods)"
      ]
     },
     "execution_count": 9,
     "metadata": {},
     "output_type": "execute_result"
    }
   ],
   "source": [
    "extract(x,v) = x[ setdiff( [1:length(x);] ,v) ]\n",
    "product(x) = Int32(reducedim(*,collect(x),1)[1])\n",
    "\n",
    "function run(x,t)\n",
    "    for i = 1:t-1  colMeans(x, true, 1)  end\n",
    "    colMeans(x,true,1)\n",
    "end\n",
    "\n",
    "z(x::Integer) = 0\n",
    "z(x::AbstractFloat) = 0.0\n",
    "\n",
    "function colMeans(x, na_rm=true, dims=1)\n",
    "    dn = size(x)\n",
    "    id = [1:dims;]\n",
    "    n  = product(dn[id])\n",
    "    dn = extract(dn,id)\n",
    "    pdn = product(dn)\n",
    "    res = zeros( pdn)\n",
    "    for j = 0:pdn-1\n",
    "        sum = z(x[1])\n",
    "        cnt = 0\n",
    "        off = j * n\n",
    "        for i = 1:n\n",
    "            v = x[i+off]\n",
    "            cnt += 1\n",
    "            sum += v\n",
    "        end\n",
    "        res[j+1] = sum/cnt\n",
    "    end\n",
    "    res\n",
    "end"
   ]
  },
  {
   "cell_type": "code",
   "execution_count": 11,
   "metadata": {
    "collapsed": false
   },
   "outputs": [
    {
     "name": "stderr",
     "output_type": "stream",
     "text": [
      "INFO: Int64\n"
     ]
    },
    {
     "name": "stdout",
     "output_type": "stream",
     "text": [
      "  0.117722 seconds (58.67 k allocations: 2.979 MB)\n"
     ]
    },
    {
     "name": "stderr",
     "output_type": "stream",
     "text": [
      "INFO: Float64\n"
     ]
    },
    {
     "name": "stdout",
     "output_type": "stream",
     "text": [
      "  3.638652 seconds (200.06 M allocations: 2.983 GB, 8.32% gc time)\n"
     ]
    }
   ],
   "source": [
    "l = 100000\n",
    "x1 = Int64[1:l;]\n",
    "x2 = Float64[1:l;]\n",
    "d = 2\n",
    "iter = 1000\n",
    "for x in (x1, x2)\n",
    "    info(eltype(x))\n",
    "    x = reshape(x, l÷d, d)\n",
    "    @time run(x,iter)\n",
    "    #@code_warntype colMeans(x,true,1)\n",
    "    # println(run(x,1))\n",
    "end"
   ]
  },
  {
   "cell_type": "code",
   "execution_count": 5,
   "metadata": {
    "collapsed": false
   },
   "outputs": [
    {
     "data": {
      "text/plain": [
       "2x2 Array{Int64,2}:\n",
       "  48   48\n",
       " 528  528"
      ]
     },
     "execution_count": 5,
     "metadata": {},
     "output_type": "execute_result"
    }
   ],
   "source": [
    "x  = [2 2; 22 22]\n",
    "x * x"
   ]
  },
  {
   "cell_type": "code",
   "execution_count": null,
   "metadata": {
    "collapsed": true
   },
   "outputs": [],
   "source": []
  }
 ],
 "metadata": {
  "kernelspec": {
   "display_name": "Julia 0.4.5",
   "language": "julia",
   "name": "julia-0.4"
  },
  "language_info": {
   "file_extension": ".jl",
   "mimetype": "application/julia",
   "name": "julia",
   "version": "0.4.5"
  }
 },
 "nbformat": 4,
 "nbformat_minor": 0
}
