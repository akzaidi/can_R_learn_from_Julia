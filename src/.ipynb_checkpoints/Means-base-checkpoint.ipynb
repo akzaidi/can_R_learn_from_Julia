{
 "cells": [
  {
   "cell_type": "code",
   "execution_count": 1,
   "metadata": {
    "collapsed": false
   },
   "outputs": [
    {
     "data": {
      "text/plain": [
       "colMeans (generic function with 3 methods)"
      ]
     },
     "execution_count": 1,
     "metadata": {},
     "output_type": "execute_result"
    }
   ],
   "source": [
    "extract(x,v) = x[ setdiff( [1:length(x);] ,v) ]\n",
    "product(x) = Int32(reducedim(*,collect(x),1)[1])\n",
    "\n",
    "z(x::AbstractFloat) = 0.0\n",
    "z(x::Complex) = complex(0.0,0.0)\n",
    "z(x) = 0\n",
    "\n",
    "function colMeans(x, na_rm=true, dims=1)\n",
    "    dn = size(x)\n",
    "    id = [1:dims;]\n",
    "    n  = product(dn[id])\n",
    "    dn = extract(dn,id)\n",
    "    pdn = product(dn)\n",
    "    res = zeros( pdn)\n",
    "    for j = 0:pdn-1\n",
    "        sum = z(x[1])\n",
    "        cnt = 0\n",
    "        off = j * n\n",
    "        for i = 1:n\n",
    "            v = x[i+off]\n",
    "            cnt += 1\n",
    "            sum += v\n",
    "        end\n",
    "        res[j+1] = sum/cnt\n",
    "    end\n",
    "    res\n",
    "end"
   ]
  },
  {
   "cell_type": "code",
   "execution_count": 2,
   "metadata": {
    "collapsed": false,
    "scrolled": true
   },
   "outputs": [
    {
     "name": "stderr",
     "output_type": "stream",
     "text": [
      "INFO: Int64\n"
     ]
    },
    {
     "name": "stdout",
     "output_type": "stream",
     "text": [
      "  0.583853 seconds (499.65 k allocations: 24.279 MB, 1.12% gc time)\n"
     ]
    }
   ],
   "source": [
    "function run(x,t)\n",
    "    for i = 1:t  colMeans(x, true, 1)  end\n",
    "end\n",
    "len = 100000\n",
    "x1 = Int64[1:len;]\n",
    "x1 = reshape(x1, len÷2, 2)\n",
    "\n",
    "info(eltype(x1))\n",
    "@time run(x1,1000)"
   ]
  },
  {
   "cell_type": "code",
   "execution_count": 3,
   "metadata": {
    "collapsed": false
   },
   "outputs": [
    {
     "name": "stderr",
     "output_type": "stream",
     "text": [
      "INFO: Float64\n"
     ]
    },
    {
     "name": "stdout",
     "output_type": "stream",
     "text": [
      "  0.197418 seconds (58.63 k allocations: 2.977 MB)\n"
     ]
    }
   ],
   "source": [
    "x2 = Float64[1:len;]\n",
    "x2 = reshape(x2, len÷2, 2)\n",
    "\n",
    "info(eltype(x2))\n",
    "@time run(x2,1000)"
   ]
  },
  {
   "cell_type": "code",
   "execution_count": 4,
   "metadata": {
    "collapsed": false
   },
   "outputs": [
    {
     "name": "stderr",
     "output_type": "stream",
     "text": [
      "INFO: Complex{Float64}\n"
     ]
    },
    {
     "name": "stdout",
     "output_type": "stream",
     "text": [
      "  0.192223 seconds (66.57 k allocations: 3.321 MB)\n"
     ]
    }
   ],
   "source": [
    "x4 = complex(x2)\n",
    "info(eltype(x4))\n",
    "@time run(x4,1000)"
   ]
  },
  {
   "cell_type": "code",
   "execution_count": null,
   "metadata": {
    "collapsed": true
   },
   "outputs": [],
   "source": []
  }
 ],
 "metadata": {
  "kernelspec": {
   "display_name": "Julia 0.4.5",
   "language": "julia",
   "name": "julia-0.4"
  },
  "language_info": {
   "file_extension": ".jl",
   "mimetype": "application/julia",
   "name": "julia",
   "version": "0.4.5"
  }
 },
 "nbformat": 4,
 "nbformat_minor": 0
}
