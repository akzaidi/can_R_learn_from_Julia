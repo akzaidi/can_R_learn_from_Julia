{
 "cells": [
  {
   "cell_type": "code",
   "execution_count": 1,
   "metadata": {
    "collapsed": false
   },
   "outputs": [
    {
     "data": {
      "text/plain": [
       "/ (generic function with 49 methods)"
      ]
     },
     "execution_count": 1,
     "metadata": {},
     "output_type": "execute_result"
    }
   ],
   "source": [
    "import Base: convert, ==, +, one, /, typemin\n",
    "\n",
    "bitstype 8 ThreeWay\n",
    "#0xff is the sentinel value and is created with a 0-argument constructor\n",
    "ThreeWay()        = reinterpret(ThreeWay, 0xff)\n",
    "ThreeWay(x::Bool) = reinterpret(ThreeWay, x)\n",
    "\n",
    "const true3  = ThreeWay(true) #by default, defined to be = convert(ThreeWay, true)\n",
    "const false3 = ThreeWay(false)\n",
    "const na3    = ThreeWay()\n",
    "\n",
    "#We abuse typemin here to specify the sentinel values\n",
    "is_na{T}(x::T) = x == typemin(T)\n",
    "\n",
    "typemin(::Type{ThreeWay}) = na3\n",
    "typemin{T<:Complex}(::Type{T}) = T(-NaN)\n",
    "\n",
    "#If NA detected, return sentinel value\n",
    "convert{T<:Real}(::Type{T}, x::ThreeWay) = ifelse(is_na(x), typemin(T),\n",
    "    T(reinterpret(UInt8, x)))\n",
    "\n",
    "one(x::Type{ThreeWay}) = true3\n",
    "==(x::ThreeWay, y::Bool) = ifelse(x == na3, false, Bool(x) == y)\n",
    "+(x::Union{Int,ThreeWay}, y::ThreeWay) = Int(x) + Int(y)\n",
    "/(x::ThreeWay, y::Int) = Bool(x)/y"
   ]
  },
  {
   "cell_type": "code",
   "execution_count": 2,
   "metadata": {
    "collapsed": false
   },
   "outputs": [
    {
     "data": {
      "text/plain": [
       "z (generic function with 3 methods)"
      ]
     },
     "execution_count": 2,
     "metadata": {},
     "output_type": "execute_result"
    }
   ],
   "source": [
    "extract(x,v) = x[ setdiff( [1:length(x);] ,v) ]\n",
    "product(x) = Int32(reducedim(*,collect(x),1)[1])\n",
    "\n",
    "function run(x,t)\n",
    "    for i = 1:t-1  colMeans(x, true, 1)  end\n",
    "    colMeans(x,true,1)\n",
    "end\n",
    "\n",
    "z(x::AbstractFloat) = 0.0\n",
    "z(x::Complex) = complex(0.0,0.0)\n",
    "z(x) = 0"
   ]
  },
  {
   "cell_type": "code",
   "execution_count": 3,
   "metadata": {
    "collapsed": false
   },
   "outputs": [
    {
     "data": {
      "text/plain": [
       "colMeans (generic function with 3 methods)"
      ]
     },
     "execution_count": 3,
     "metadata": {},
     "output_type": "execute_result"
    }
   ],
   "source": [
    "## colMeans implements part of the functionality of the do_colsum R\n",
    "## internal funtion.\n",
    "## dims specifies how many dimensions we want to reduce\n",
    "function colMeans(x, na_rm=true, dims=1)\n",
    "    dn = size(x)\n",
    "    id = [1:dims;]\n",
    "    n  = product(dn[id])\n",
    "    dn = extract(dn,id)\n",
    "    pdn = product(dn)\n",
    "    res = zeros(typeof(x[1]/1), pdn)\n",
    "    init = z(x[1])\n",
    "    sentinel = typemin(typeof(init))\n",
    "    for j = 0:pdn-1\n",
    "        sum = init\n",
    "        cnt = 0\n",
    "        off = (j * n)\n",
    "        for i = 1:n\n",
    "         v = x[i+off]\n",
    "            if (!is_na(v))\n",
    "                cnt += 1\n",
    "                sum += v\n",
    "            elseif na_rm\n",
    "                sum = sentinel\n",
    "            end\n",
    "        end\n",
    "        res[j+1] = is_na(sum) ?  sum :  sum/cnt\n",
    "    end\n",
    "    res\n",
    "end"
   ]
  },
  {
   "cell_type": "code",
   "execution_count": 4,
   "metadata": {
    "collapsed": false
   },
   "outputs": [
    {
     "name": "stderr",
     "output_type": "stream",
     "text": [
      "INFO: Int32\n"
     ]
    },
    {
     "name": "stdout",
     "output_type": "stream",
     "text": [
      "  0.087937 seconds (51.00 k allocations: 2.548 MB)\n"
     ]
    },
    {
     "name": "stderr",
     "output_type": "stream",
     "text": [
      "INFO: Float32\n"
     ]
    },
    {
     "name": "stdout",
     "output_type": "stream",
     "text": [
      "  0.141269 seconds (49.00 k allocations: 2.518 MB)\n"
     ]
    },
    {
     "name": "stderr",
     "output_type": "stream",
     "text": [
      "INFO: ThreeWay\n"
     ]
    },
    {
     "name": "stdout",
     "output_type": "stream",
     "text": [
      "  0.095119 seconds (51.00 k allocations: 2.548 MB)\n"
     ]
    },
    {
     "name": "stderr",
     "output_type": "stream",
     "text": [
      "INFO: Complex{Float32}\n"
     ]
    },
    {
     "name": "stdout",
     "output_type": "stream",
     "text": [
      "  0.165120 seconds (49.00 k allocations: 2.518 MB, 3.12% gc time)\n"
     ]
    }
   ],
   "source": [
    "\n",
    "l = 100000\n",
    "x1 = Int32[1:l;]\n",
    "x2 = Float32[1:l;]\n",
    "x3 = fill(true3, l)\n",
    "x4 = complex(x2)\n",
    "d = 2\n",
    "iter = 1000\n",
    "using Base.Profile\n",
    "for x in (x1, x2, x3, x4)\n",
    "    info(eltype(x))\n",
    "    x = reshape(x, l÷d, d)\n",
    "    run(x,1)#Precompile\n",
    "    @time run(x,iter)\n",
    "    #Analyze code for type instabilities\n",
    "   # @code_warntype colMeans(x,true,1)\n",
    "    #Run profiler - using Base.Profile\n",
    "  #  @profile colMeans(x,true,1)\n",
    "    #Profile.print()\n",
    "end"
   ]
  },
  {
   "cell_type": "code",
   "execution_count": null,
   "metadata": {
    "collapsed": true
   },
   "outputs": [],
   "source": []
  }
 ],
 "metadata": {
  "kernelspec": {
   "display_name": "Julia 0.4.5",
   "language": "julia",
   "name": "julia-0.4"
  },
  "language_info": {
   "file_extension": ".jl",
   "mimetype": "application/julia",
   "name": "julia",
   "version": "0.4.5"
  }
 },
 "nbformat": 4,
 "nbformat_minor": 0
}
